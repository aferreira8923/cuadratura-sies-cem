{
 "cells": [
  {
   "cell_type": "code",
   "execution_count": 1,
   "metadata": {},
   "outputs": [],
   "source": [
    "\n",
    "def df_from_redshift(sql, engine):\n",
    "    with engine.connect().execution_options(autocommit=True) as conn:\n",
    "        query = conn.execute(text(sql))\n",
    "        df = pd.DataFrame(query.fetchall())\n",
    "    return df\n",
    "\n",
    "def df_from_s3(key, bucket,aws_access_key_id,aws_secret_access_key, s3_client=None, **args):\n",
    "    if s3_client is None:\n",
    "        s3_client = boto3.client('s3',aws_access_key_id = aws_access_key_id, aws_secret_access_key = aws_secret_access_key)\n",
    "    obj = s3_client.get_object(Bucket=bucket, Key=key)\n",
    "    df = pd.read_parquet(io.BytesIO(obj['Body'].read()), **args)\n",
    "    return df"
   ]
  },
  {
   "cell_type": "code",
   "execution_count": 2,
   "metadata": {},
   "outputs": [],
   "source": [
    "def preprocesa_anio(anio):\n",
    "    anio = int(anio[4:])\n",
    "    return anio"
   ]
  },
  {
   "cell_type": "markdown",
   "metadata": {},
   "source": [
    "## sies-matriculados"
   ]
  },
  {
   "cell_type": "code",
   "execution_count": null,
   "metadata": {},
   "outputs": [],
   "source": [
    "bucket_name = 'cuech-siiuec-stage0-dev'\n",
    "path = 'sies/matriculados/historico/2023/sies_matriculados_h_2023.parquet'\n",
    "\n",
    "df_s3 = df_from_s3(path, bucket_name, aws_access_key_id, aws_secret_access_key)"
   ]
  },
  {
   "cell_type": "markdown",
   "metadata": {},
   "source": [
    "* Matriculados por tipo de institución"
   ]
  },
  {
   "cell_type": "code",
   "execution_count": null,
   "metadata": {},
   "outputs": [],
   "source": [
    "df_stage = df_s3[['anio','total_matriculados','clasificacion_institucion_nivel_3']].groupby(['anio','clasificacion_institucion_nivel_3'],as_index=False).sum()\n",
    "df_stage"
   ]
  },
  {
   "cell_type": "code",
   "execution_count": null,
   "metadata": {},
   "outputs": [],
   "source": [
    "df_stage['anio'] = df_stage['anio'].apply(preprocesa_anio)\n",
    "df_stage"
   ]
  },
  {
   "cell_type": "code",
   "execution_count": null,
   "metadata": {},
   "outputs": [],
   "source": [
    "sql_cubo = '''SELECT clasificacion_institucion_nivel_3,periodo,sum(total_matriculados) as total_cubo \n",
    "           FROM sies.sies_mat_h_2023\n",
    "           GROUP BY clasificacion_institucion_nivel_3,periodo\n",
    "           ORDER BY periodo,clasificacion_institucion_nivel_3;'''\n",
    "\n",
    "df_rs = df_from_redshift(sql_cubo, engine_cubo)\n",
    "df_rs"
   ]
  },
  {
   "cell_type": "code",
   "execution_count": null,
   "metadata": {},
   "outputs": [],
   "source": [
    "df_stage = df_stage.sort_values(['clasificacion_institucion_nivel_3','anio'])\n",
    "df_rs = df_rs.sort_values(['clasificacion_institucion_nivel_3','periodo'])\n",
    "\n",
    "df_stage['total_cubo'] = df_rs['total_cubo'].values\n",
    "df_stage['diferencias'] = df_stage['total_cubo'].values - df_stage['total_matriculados'].values\n",
    "\n",
    "print('Diferencias: \\n\\n', df_stage.loc[(df_stage.loc[:,'diferencias'] != 0)])"
   ]
  },
  {
   "cell_type": "markdown",
   "metadata": {},
   "source": [
    "* Matriculados por código de Institución"
   ]
  },
  {
   "cell_type": "code",
   "execution_count": null,
   "metadata": {},
   "outputs": [],
   "source": [
    "df_stage = df_s3[['anio','total_matriculados','codigo_de_institucion']].groupby(['anio','codigo_de_institucion'],as_index=False).sum()\n",
    "df_stage"
   ]
  },
  {
   "cell_type": "code",
   "execution_count": null,
   "metadata": {},
   "outputs": [],
   "source": [
    "df_stage['anio'] = df_stage['anio'].apply(preprocesa_anio)\n",
    "df_stage"
   ]
  },
  {
   "cell_type": "code",
   "execution_count": null,
   "metadata": {},
   "outputs": [],
   "source": [
    "sql_cubo = '''SELECT codigo_institucion,periodo,sum(total_matriculados) as total_cubo \n",
    "           FROM sies.sies_mat_h_2023\n",
    "           GROUP BY codigo_institucion,periodo\n",
    "           ORDER BY periodo,codigo_institucion;'''\n",
    "\n",
    "df_rs = df_from_redshift(sql_cubo, engine_cubo)\n",
    "df_rs"
   ]
  },
  {
   "cell_type": "code",
   "execution_count": null,
   "metadata": {},
   "outputs": [],
   "source": [
    "df_stage = df_stage.sort_values(['codigo_de_institucion','anio'])\n",
    "df_rs = df_rs.sort_values(['codigo_institucion','periodo'])\n",
    "\n",
    "df_stage['total_cubo'] = df_rs['total_cubo'].values\n",
    "df_stage['diferencias'] = df_stage['total_cubo'].values - df_stage['total_matriculados'].values\n",
    "\n",
    "print('Diferencias: \\n\\n', df_stage.loc[(df_stage.loc[:,'diferencias'] != 0)])"
   ]
  },
  {
   "cell_type": "markdown",
   "metadata": {},
   "source": [
    "* Matriculados por región"
   ]
  },
  {
   "cell_type": "code",
   "execution_count": null,
   "metadata": {},
   "outputs": [],
   "source": [
    "df_stage = df_s3[['anio','total_matriculados','region']].groupby(['anio','region'],as_index=False).sum()\n",
    "df_stage"
   ]
  },
  {
   "cell_type": "code",
   "execution_count": null,
   "metadata": {},
   "outputs": [],
   "source": [
    "df_stage['anio'] = df_stage['anio'].apply(preprocesa_anio)\n",
    "df_stage"
   ]
  },
  {
   "cell_type": "code",
   "execution_count": null,
   "metadata": {},
   "outputs": [],
   "source": [
    "sql_cubo = '''SELECT region_sede,periodo,sum(total_matriculados) as total_cubo \n",
    "           FROM sies.sies_mat_h_2023\n",
    "           GROUP BY region_sede,periodo\n",
    "           ORDER BY 2,1;'''\n",
    "\n",
    "df_rs = df_from_redshift(sql_cubo, engine_cubo)\n",
    "df_rs"
   ]
  },
  {
   "cell_type": "code",
   "execution_count": null,
   "metadata": {},
   "outputs": [],
   "source": [
    "mapeo = {\"Región del Libertador Bernardo O'Higgins\":\"Región Del Lib. B. O'Higgins\",\n",
    "         \"Región de Valparaíso\":\"Región De Valparaíso\",\n",
    "         \"Región de Atacama\":\"Región De Atacama\",\n",
    "         \"Región del Bío-Bío\":\"Región Del Biobío\",\n",
    "         \"Región de Coquimbo\":\"Región De Coquimbo\",\n",
    "         \"Región de La Araucanía\":\"Región De La Araucanía\",\n",
    "         \"Región de Ñuble\":\"Región De Ñuble\",\n",
    "         \"Región de Tarapacá\":\"Región De Tarapacá\",\n",
    "         \"Región de Los Ríos\":\"Región De Los Ríos\",\n",
    "         \"Región del Maule\":\"Región Del Maule\",\n",
    "         \"Región de Magallanes y Antártica Chilena\":\"Región De Magallanes Y La Antártica\",\n",
    "         \"Región de Aysén del Gral.Ibañez del Campo\":\"Región De Aysén Del G. C. Ibañez\",\n",
    "         \"Región Metropolitana de Santiago\":\"Región Metropolitana\",\n",
    "         \"Región de Arica y Parinacota\":\"Región De Arica Y Parinacota\",\n",
    "         \"Región de Antofagasta\":\"Región De Antofagasta\",\n",
    "         \"Región de Los Lagos\":\"Región De Los Lagos\"}\n",
    "\n",
    "df_rs['region_sede'] = df_rs['region_sede'].map(mapeo)\n",
    "df_rs"
   ]
  },
  {
   "cell_type": "code",
   "execution_count": null,
   "metadata": {},
   "outputs": [],
   "source": [
    "df_stage = df_stage.sort_values(['region','anio'])\n",
    "df_rs = df_rs.sort_values(['region_sede','periodo'])\n",
    "\n",
    "df_stage['total_cubo'] = df_rs['total_cubo'].values\n",
    "df_stage['diferencias'] = df_stage['total_cubo'].values - df_stage['total_matriculados'].values\n",
    "\n",
    "print('Diferencias: \\n\\n', df_stage.loc[(df_stage.loc[:,'diferencias'] != 0)])"
   ]
  },
  {
   "cell_type": "markdown",
   "metadata": {},
   "source": [
    "## sies-titulados"
   ]
  },
  {
   "cell_type": "code",
   "execution_count": null,
   "metadata": {},
   "outputs": [],
   "source": [
    "bucket_name = 'cuech-siiuec-stage0-dev'\n",
    "path = 'sies/titulados/historico/2023/sies_titulados_h_2023.parquet'\n",
    "\n",
    "df_s3 = df_from_s3(path, bucket_name, aws_access_key_id, aws_secret_access_key)\n",
    "df_s3.head(2)"
   ]
  },
  {
   "cell_type": "markdown",
   "metadata": {},
   "source": [
    "* titulados por tipo de institución"
   ]
  },
  {
   "cell_type": "code",
   "execution_count": null,
   "metadata": {},
   "outputs": [],
   "source": [
    "df_stage = df_s3[['anio','total_titulados','clasificacion_institucion_nivel_3']].groupby(['anio','clasificacion_institucion_nivel_3'],as_index=False).sum()\n",
    "df_stage"
   ]
  },
  {
   "cell_type": "code",
   "execution_count": null,
   "metadata": {},
   "outputs": [],
   "source": [
    "df_stage['anio'] = df_stage['anio'].apply(preprocesa_anio)\n",
    "df_stage"
   ]
  },
  {
   "cell_type": "code",
   "execution_count": null,
   "metadata": {},
   "outputs": [],
   "source": [
    "sql_cubo = '''SELECT clasificacion_institucion_nivel_3,periodo,sum(total_titulados) as total_cubo \n",
    "           FROM sies.sies_tit_h_2023\n",
    "           GROUP BY clasificacion_institucion_nivel_3,periodo\n",
    "           ORDER BY periodo,clasificacion_institucion_nivel_3;'''\n",
    "\n",
    "df_rs = df_from_redshift(sql_cubo, engine_cubo)\n",
    "df_rs"
   ]
  },
  {
   "cell_type": "code",
   "execution_count": null,
   "metadata": {},
   "outputs": [],
   "source": [
    "df_stage = df_stage.sort_values(['clasificacion_institucion_nivel_3','anio'])\n",
    "df_rs = df_rs.sort_values(['clasificacion_institucion_nivel_3','periodo'])\n",
    "\n",
    "df_stage['total_cubo'] = df_rs['total_cubo'].values\n",
    "df_stage['diferencias'] = df_stage['total_cubo'].values - df_stage['total_titulados'].values\n",
    "\n",
    "print('Diferencias: \\n\\n', df_stage.loc[(df_stage.loc[:,'diferencias'] != 0)])\n",
    "#df_stage.loc[(df_stage.loc[:,'diferencias'] != 0)].to_csv('diferencias_sies_tit_h_2023.csv',index=False)"
   ]
  },
  {
   "cell_type": "markdown",
   "metadata": {},
   "source": [
    "* Titulados por código de Institución"
   ]
  },
  {
   "cell_type": "code",
   "execution_count": null,
   "metadata": {},
   "outputs": [],
   "source": [
    "df_stage = df_s3[['anio','total_titulados','codigo_institucion']].groupby(['anio','codigo_institucion'],as_index=False).sum()\n",
    "df_stage"
   ]
  },
  {
   "cell_type": "code",
   "execution_count": null,
   "metadata": {},
   "outputs": [],
   "source": [
    "df_stage['anio'] = df_stage['anio'].apply(preprocesa_anio)\n",
    "df_stage"
   ]
  },
  {
   "cell_type": "code",
   "execution_count": null,
   "metadata": {},
   "outputs": [],
   "source": [
    "sql_cubo = '''SELECT codigo_institucion,periodo,sum(total_titulados) as total_cubo \n",
    "           FROM sies.sies_tit_h_2023\n",
    "           GROUP BY codigo_institucion,periodo\n",
    "           ORDER BY periodo,codigo_institucion;'''\n",
    "\n",
    "df_rs = df_from_redshift(sql_cubo, engine_cubo)\n",
    "df_rs"
   ]
  },
  {
   "cell_type": "code",
   "execution_count": null,
   "metadata": {},
   "outputs": [],
   "source": [
    "df_stage = df_stage.sort_values(['codigo_institucion','anio'])\n",
    "df_rs = df_rs.sort_values(['codigo_institucion','periodo'])\n",
    "\n",
    "df_stage['total_cubo'] = df_rs['total_cubo'].values\n",
    "df_stage['diferencias'] = df_stage['total_cubo'].values - df_stage['total_titulados'].values\n",
    "\n",
    "print('Diferencias: \\n\\n', df_stage.loc[(df_stage.loc[:,'diferencias'] != 0)])"
   ]
  },
  {
   "cell_type": "markdown",
   "metadata": {},
   "source": [
    "* Titulados por región"
   ]
  },
  {
   "cell_type": "code",
   "execution_count": null,
   "metadata": {},
   "outputs": [],
   "source": [
    "df_stage = df_s3[['anio','total_titulados','region']].groupby(['anio','region'],as_index=False).sum()\n",
    "df_stage"
   ]
  },
  {
   "cell_type": "code",
   "execution_count": null,
   "metadata": {},
   "outputs": [],
   "source": [
    "df_stage['anio'] = df_stage['anio'].apply(preprocesa_anio)\n",
    "df_stage"
   ]
  },
  {
   "cell_type": "code",
   "execution_count": null,
   "metadata": {},
   "outputs": [],
   "source": [
    "mapeo = {\"Coquimbo\":\"Región de Coquimbo\",\n",
    "         \"Ñuble\":\"Región de Ñuble\",\n",
    "         \"Valparaíso\":\"Región de Valparaíso\",\n",
    "         \"La Araucanía\":\"Región de La Araucanía\",\n",
    "         \"Tarapacá\":\"Región de Tarapacá\",\n",
    "         \"Magallanes\":\"Región de Magallanes y Antártica Chilena\",\n",
    "        \"Arica y Parinacota\":\"Región de Arica y Parinacota\",\n",
    "        \"Los Lagos\":\"Región de Los Lagos\",\n",
    "        \"Antofagasta\":\"Región de Antofagasta\",\n",
    "        \"Los Ríos\":\"Región de Los Ríos\",\n",
    "        \"Biobío\":\"Región del Bío-Bío\",\n",
    "        \"Lib. Gral B. O'Higgins\":\"Región del Libertador Bernardo O'Higgins\",\n",
    "        \"Atacama\":\"Región de Atacama\",\n",
    "        \"Aysén\":\"Región de Aysén del Gral.Ibañez del Campo\",\n",
    "        \"Maule\":\"Región del Maule\",\n",
    "        \"Metropolitana\":\"Región Metropolitana de Santiago\"}\n",
    "\n",
    "df_stage['region'] = df_stage['region'].map(mapeo)\n",
    "df_stage"
   ]
  },
  {
   "cell_type": "code",
   "execution_count": null,
   "metadata": {},
   "outputs": [],
   "source": [
    "sql_cubo = '''SELECT region_sede,periodo,sum(total_titulados) as total_cubo \n",
    "           FROM sies.sies_tit_h_2023\n",
    "           GROUP BY region_sede,periodo\n",
    "           ORDER BY 2,1;'''\n",
    "\n",
    "df_rs = df_from_redshift(sql_cubo, engine_cubo)\n",
    "df_rs"
   ]
  },
  {
   "cell_type": "code",
   "execution_count": null,
   "metadata": {},
   "outputs": [],
   "source": [
    "df_stage = df_stage.sort_values(['region','anio'])\n",
    "df_rs = df_rs.sort_values(['region_sede','periodo'])\n",
    "\n",
    "df_stage['total_cubo'] = df_rs['total_cubo'].values\n",
    "df_stage['diferencias'] = df_stage['total_cubo'].values - df_stage['total_titulados'].values\n",
    "\n",
    "print('Diferencias: \\n\\n', df_stage.loc[(df_stage.loc[:,'diferencias'] != 0)])"
   ]
  },
  {
   "cell_type": "markdown",
   "metadata": {},
   "source": [
    "## sies-oferta-académica"
   ]
  },
  {
   "cell_type": "code",
   "execution_count": null,
   "metadata": {},
   "outputs": [],
   "source": [
    "bucket_name = 'cuech-siiuec-stage0-dev'\n",
    "path = 'sies/oferta-academica/historico/2024/sies_oferta_academica_h_2024.parquet'\n",
    "\n",
    "df_s3 = df_from_s3(path, bucket_name, aws_access_key_id, aws_secret_access_key)\n",
    "df_s3.head(2)"
   ]
  },
  {
   "cell_type": "markdown",
   "metadata": {},
   "source": [
    "* cantidad programas por tipo de institucion"
   ]
  },
  {
   "cell_type": "code",
   "execution_count": null,
   "metadata": {},
   "outputs": [],
   "source": [
    "df_stage = df_s3[['anio','codigo_unico','tipo_institucion_3']].groupby(['anio','tipo_institucion_3'],as_index=False).count()\n",
    "df_stage"
   ]
  },
  {
   "cell_type": "code",
   "execution_count": null,
   "metadata": {},
   "outputs": [],
   "source": [
    "df_stage['anio'] = df_stage['anio'].apply(preprocesa_anio)\n",
    "df_stage"
   ]
  },
  {
   "cell_type": "code",
   "execution_count": null,
   "metadata": {},
   "outputs": [],
   "source": [
    "sql_cubo = '''SELECT clasificacion_institucion_nivel_3,periodo,count(cod_unico) as total_cubo \n",
    "           FROM sies.sies_oa_h_2024\n",
    "           GROUP BY clasificacion_institucion_nivel_3,periodo\n",
    "           ORDER BY periodo,clasificacion_institucion_nivel_3;'''\n",
    "\n",
    "df_rs = df_from_redshift(sql_cubo, engine_cubo)\n",
    "df_rs"
   ]
  },
  {
   "cell_type": "code",
   "execution_count": null,
   "metadata": {},
   "outputs": [],
   "source": [
    "df_stage = df_stage.sort_values(['tipo_institucion_3','anio'])\n",
    "df_rs = df_rs.sort_values(['clasificacion_institucion_nivel_3','periodo'])\n",
    "\n",
    "df_stage['total_cubo'] = df_rs['total_cubo'].values\n",
    "df_stage['diferencias'] = df_stage['total_cubo'].values - df_stage['codigo_unico'].values\n",
    "\n",
    "print('Diferencias: \\n\\n', df_stage.loc[(df_stage.loc[:,'diferencias'] != 0)])"
   ]
  },
  {
   "cell_type": "markdown",
   "metadata": {},
   "source": [
    "* Cantidad de programas por código de institución"
   ]
  },
  {
   "cell_type": "code",
   "execution_count": null,
   "metadata": {},
   "outputs": [],
   "source": [
    "df_stage = df_s3[['anio','codigo_unico','codigo_ies']].groupby(['anio','codigo_ies'],as_index=False).count()\n",
    "df_stage"
   ]
  },
  {
   "cell_type": "code",
   "execution_count": null,
   "metadata": {},
   "outputs": [],
   "source": [
    "df_stage['anio'] = df_stage['anio'].apply(preprocesa_anio)\n",
    "df_stage"
   ]
  },
  {
   "cell_type": "code",
   "execution_count": null,
   "metadata": {},
   "outputs": [],
   "source": [
    "sql_cubo = '''SELECT codigo_institucion,periodo,count(cod_unico) as total_cubo \n",
    "           FROM sies.sies_oa_h_2024\n",
    "           GROUP BY codigo_institucion,periodo\n",
    "           ORDER BY periodo,codigo_institucion;'''\n",
    "\n",
    "df_rs = df_from_redshift(sql_cubo, engine_cubo)\n",
    "df_rs"
   ]
  },
  {
   "cell_type": "code",
   "execution_count": null,
   "metadata": {},
   "outputs": [],
   "source": [
    "df_stage = df_stage.sort_values(['codigo_ies','anio'])\n",
    "df_rs = df_rs.sort_values(['codigo_institucion','periodo'])\n",
    "\n",
    "df_stage['total_cubo'] = df_rs['total_cubo'].values\n",
    "df_stage['diferencias'] = df_stage['total_cubo'].values - df_stage['codigo_unico'].values\n",
    "\n",
    "print('Diferencias: \\n\\n', df_stage.loc[(df_stage.loc[:,'diferencias'] != 0)])"
   ]
  },
  {
   "cell_type": "markdown",
   "metadata": {},
   "source": [
    "* Cantidad de programas por región"
   ]
  },
  {
   "cell_type": "code",
   "execution_count": null,
   "metadata": {},
   "outputs": [],
   "source": [
    "df_stage = df_s3[['anio','codigo_unico','region_sede']].groupby(['anio','region_sede'],as_index=False).count()\n",
    "df_stage"
   ]
  },
  {
   "cell_type": "code",
   "execution_count": null,
   "metadata": {},
   "outputs": [],
   "source": [
    "df_stage['anio'] = df_stage['anio'].apply(preprocesa_anio)\n",
    "df_stage"
   ]
  },
  {
   "cell_type": "code",
   "execution_count": null,
   "metadata": {},
   "outputs": [],
   "source": [
    "mapeo = {\"REGION DE COQUIMBO\":\"Región de Coquimbo\",\n",
    "         \"REGION DE ÑUBLE\":\"Región de Ñuble\",\n",
    "         \"REGION DE VALPARAISO\":\"Región de Valparaíso\",\n",
    "         \"REGION DE LA ARAUCANIA\":\"Región de La Araucanía\",\n",
    "         \"REGION DE TARAPACA\":\"Región de Tarapacá\",\n",
    "         \"REGION DE MAGALLANES Y DE LA ANTARTICA CHILENA\":\"Región de Magallanes y Antártica Chilena\",\n",
    "        \"REGION DE ARICA Y PARINACOTA\":\"Región de Arica y Parinacota\",\n",
    "        \"REGION DE LOS LAGOS\":\"Región de Los Lagos\",\n",
    "        \"REGION DE ANTOFAGASTA\":\"Región de Antofagasta\",\n",
    "        \"REGION DE LOS RIOS\":\"Región de Los Ríos\",\n",
    "        \"REGION DEL BIOBIO\":\"Región del Bío-Bío\",\n",
    "        \"REGION DEL LIBERTADOR BERNARDO OHIGGINS\":\"Región del Libertador Bernardo O'Higgins\",\n",
    "        \"REGION DE ATACAMA\":\"Región de Atacama\",\n",
    "        \"REGION DE AYSEN DEL GENERAL CARLOS IBAÑEZ DEL CAMPO\":\"Región de Aysén del Gral.Ibañez del Campo\",\n",
    "        \"REGION DEL MAULE\":\"Región del Maule\",\n",
    "        \"REGION METROPOLITANA\":\"Región Metropolitana de Santiago\"}\n",
    "\n",
    "df_stage['region_sede'] = df_stage['region_sede'].map(mapeo)\n",
    "df_stage"
   ]
  },
  {
   "cell_type": "code",
   "execution_count": null,
   "metadata": {},
   "outputs": [],
   "source": [
    "sql_cubo = '''SELECT region_sede,periodo,count(cod_unico) as total_cubo \n",
    "           FROM sies.sies_oa_h_2024\n",
    "           GROUP BY region_sede,periodo\n",
    "           ORDER BY periodo,region_sede;'''\n",
    "\n",
    "df_rs = df_from_redshift(sql_cubo, engine_cubo)\n",
    "df_rs"
   ]
  },
  {
   "cell_type": "code",
   "execution_count": null,
   "metadata": {},
   "outputs": [],
   "source": [
    "df_stage = df_stage.sort_values(['region_sede','anio'])\n",
    "df_rs = df_rs.sort_values(['region_sede','periodo'])\n",
    "\n",
    "df_stage['total_cubo'] = df_rs['total_cubo'].values\n",
    "df_stage['diferencias'] = df_stage['total_cubo'].values - df_stage['codigo_unico'].values\n",
    "\n",
    "print('Diferencias: \\n\\n', df_stage.loc[(df_stage.loc[:,'diferencias'] != 0)])"
   ]
  }
 ],
 "metadata": {
  "kernelspec": {
   "display_name": "cuadratura",
   "language": "python",
   "name": "python3"
  },
  "language_info": {
   "codemirror_mode": {
    "name": "ipython",
    "version": 3
   },
   "file_extension": ".py",
   "mimetype": "text/x-python",
   "name": "python",
   "nbconvert_exporter": "python",
   "pygments_lexer": "ipython3",
   "version": "3.11.10"
  }
 },
 "nbformat": 4,
 "nbformat_minor": 2
}
