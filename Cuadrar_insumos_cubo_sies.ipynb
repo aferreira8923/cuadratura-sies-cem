{
 "cells": [
  {
   "cell_type": "code",
   "execution_count": 1,
   "metadata": {},
   "outputs": [],
   "source": [
    "def df_from_redshift(sql, engine):\n",
    "    with engine.connect().execution_options(autocommit=True) as conn:\n",
    "        query = conn.execute(text(sql))\n",
    "        df = pd.DataFrame(query.fetchall())\n",
    "    return df"
   ]
  },
  {
   "cell_type": "markdown",
   "metadata": {},
   "source": [
    "## sies-matriculados"
   ]
  },
  {
   "cell_type": "markdown",
   "metadata": {},
   "source": [
    "* Matriculados por tipo de institución"
   ]
  },
  {
   "cell_type": "code",
   "execution_count": null,
   "metadata": {},
   "outputs": [],
   "source": [
    "sql_insumo = '''SELECT periodo,clasificacion_institucion_nivel_3,sum(coalesce(total_matriculados,0)) as total_insumo \n",
    "           FROM sies.sies_mat_h_2024\n",
    "           GROUP BY clasificacion_institucion_nivel_3,periodo\n",
    "           ORDER BY periodo,clasificacion_institucion_nivel_3;'''\n",
    "\n",
    "df_insumo = df_from_redshift(sql_insumo, engine_insumo)\n",
    "df_insumo"
   ]
  },
  {
   "cell_type": "code",
   "execution_count": null,
   "metadata": {},
   "outputs": [],
   "source": [
    "sql_cubo = '''SELECT a.periodo,b.clasificacion_institucion_nivel_3,sum(coalesce(total_matriculados,0)) as total_cubo\n",
    "              FROM programas.agg_programas as a\n",
    "              LEFT JOIN programas.dim_programas as b\n",
    "              ON a.codigo_unico=b.codigo_unico AND a.periodo=b.periodo\n",
    "              WHERE a.existencia_sies_mat=1\n",
    "              GROUP BY b.clasificacion_institucion_nivel_3,a.periodo;'''\n",
    "\n",
    "df_cubo = df_from_redshift(sql_cubo, engine_cubo)\n",
    "df_cubo"
   ]
  },
  {
   "cell_type": "code",
   "execution_count": null,
   "metadata": {},
   "outputs": [],
   "source": [
    "df = df_insumo.merge(df_cubo)\n",
    "\n",
    "df['diferencias'] = df['total_insumo'] - df['total_cubo']\n",
    "\n",
    "df"
   ]
  },
  {
   "cell_type": "code",
   "execution_count": null,
   "metadata": {},
   "outputs": [],
   "source": [
    "df.loc[(df.loc[:,'diferencias']!= 0.)]"
   ]
  },
  {
   "cell_type": "code",
   "execution_count": 6,
   "metadata": {},
   "outputs": [],
   "source": [
    "#df.to_csv('matriculados_tipo_inst.csv',index=False)\n",
    "df.loc[(df.loc[:,'diferencias']!= 0.)].to_csv('sies_matriculados_tipo_inst.csv',index=False)"
   ]
  },
  {
   "cell_type": "markdown",
   "metadata": {},
   "source": [
    "* Matriculados por código de Institución"
   ]
  },
  {
   "cell_type": "code",
   "execution_count": null,
   "metadata": {},
   "outputs": [],
   "source": [
    "sql_insumo = '''SELECT periodo,codigo_institucion,sum(total_matriculados) as total_insumo \n",
    "                FROM sies.sies_mat_h_2024\n",
    "                GROUP BY codigo_institucion,periodo\n",
    "                ORDER BY periodo,codigo_institucion;'''\n",
    "\n",
    "df_insumo = df_from_redshift(sql_insumo, engine_insumo)\n",
    "df_insumo"
   ]
  },
  {
   "cell_type": "code",
   "execution_count": null,
   "metadata": {},
   "outputs": [],
   "source": [
    "sql_cubo = '''SELECT a.periodo,b.codigo_institucion,sum(a.total_matriculados) as total_cubo\n",
    "              FROM programas.agg_programas as a\n",
    "              LEFT JOIN programas.dim_programas as b\n",
    "              ON a.codigo_unico=b.codigo_unico AND a.periodo=b.periodo\n",
    "              WHERE a.existencia_sies_mat=1\n",
    "              GROUP BY b.codigo_institucion,a.periodo;'''\n",
    "\n",
    "df_cubo = df_from_redshift(sql_cubo, engine_cubo)\n",
    "df_cubo"
   ]
  },
  {
   "cell_type": "code",
   "execution_count": null,
   "metadata": {},
   "outputs": [],
   "source": [
    "df = df_insumo.merge(df_cubo)\n",
    "\n",
    "df['diferencias'] = df['total_insumo'] - df['total_cubo']\n",
    "\n",
    "df"
   ]
  },
  {
   "cell_type": "code",
   "execution_count": null,
   "metadata": {},
   "outputs": [],
   "source": [
    "df.loc[(df.loc[:,'diferencias']!= 0.)]"
   ]
  },
  {
   "cell_type": "code",
   "execution_count": 12,
   "metadata": {},
   "outputs": [],
   "source": [
    "#df.to_csv('matriculados_cod_inst.csv',index=False)\n",
    "df.loc[(df.loc[:,'diferencias']!= 0.)].to_csv('sies_matriculados_cod_inst.csv',index=False)"
   ]
  },
  {
   "cell_type": "markdown",
   "metadata": {},
   "source": [
    "* Matriculados por región"
   ]
  },
  {
   "cell_type": "code",
   "execution_count": null,
   "metadata": {},
   "outputs": [],
   "source": [
    "sql_insumo = '''SELECT region_sede,periodo,sum(total_matriculados) as total_insumo \n",
    "                FROM sies.sies_mat_h_2023\n",
    "                GROUP BY region_sede,periodo\n",
    "                ORDER BY 2,1;'''\n",
    "\n",
    "df_insumo = df_from_redshift(sql_insumo, engine_insumo)\n",
    "df_insumo"
   ]
  },
  {
   "cell_type": "code",
   "execution_count": null,
   "metadata": {},
   "outputs": [],
   "source": [
    "sql_cubo = '''SELECT a.periodo,c.nombre_region,sum(a.total_matriculados) as total_cubo\n",
    "              FROM programas.agg_programas as a\n",
    "              LEFT JOIN transversal.dim_region as b\n",
    "              ON a.codigo_unico=b.codigo_unico AND a.periodo=b.periodo\n",
    "              GROUP BY b.codigo_institucion,a.periodo;'''\n",
    "\n",
    "df_cubo = df_from_redshift(sql_cubo, engine_cubo)\n",
    "df_cubo"
   ]
  },
  {
   "cell_type": "markdown",
   "metadata": {},
   "source": [
    "## sies-titulados"
   ]
  },
  {
   "cell_type": "markdown",
   "metadata": {},
   "source": [
    "* titulados por tipo de institución"
   ]
  },
  {
   "cell_type": "code",
   "execution_count": null,
   "metadata": {},
   "outputs": [],
   "source": [
    "sql_insumo = '''SELECT periodo,clasificacion_institucion_nivel_3,sum(total_titulados) as total_insumo \n",
    "           FROM sies.sies_tit_h_2023\n",
    "           GROUP BY clasificacion_institucion_nivel_3,periodo\n",
    "           ORDER BY periodo,clasificacion_institucion_nivel_3;'''\n",
    "\n",
    "df_insumo = df_from_redshift(sql_insumo, engine_insumo)\n",
    "df_insumo"
   ]
  },
  {
   "cell_type": "code",
   "execution_count": null,
   "metadata": {},
   "outputs": [],
   "source": [
    "sql_cubo = '''SELECT a.periodo,b.clasificacion_institucion_nivel_3,sum(a.total_titulados) as total_cubo\n",
    "              FROM programas.agg_programas as a\n",
    "              LEFT JOIN programas.dim_programas as b\n",
    "              ON a.codigo_unico=b.codigo_unico AND a.periodo=b.periodo\n",
    "              WHERE a.existencia_sies_tit=1\n",
    "              GROUP BY b.clasificacion_institucion_nivel_3,a.periodo;'''\n",
    "\n",
    "df_cubo = df_from_redshift(sql_cubo, engine_cubo)\n",
    "df_cubo"
   ]
  },
  {
   "cell_type": "code",
   "execution_count": null,
   "metadata": {},
   "outputs": [],
   "source": [
    "df = df_insumo.merge(df_cubo)\n",
    "\n",
    "df['diferencias'] = df['total_insumo'] - df['total_cubo']\n",
    "\n",
    "df"
   ]
  },
  {
   "cell_type": "code",
   "execution_count": null,
   "metadata": {},
   "outputs": [],
   "source": [
    "df.loc[(df.loc[:,'diferencias']!= 0.)]"
   ]
  },
  {
   "cell_type": "code",
   "execution_count": 15,
   "metadata": {},
   "outputs": [],
   "source": [
    "#df.to_csv('titulados_tipo_inst.csv',index=False)\n",
    "df.loc[(df.loc[:,'diferencias']!= 0.)].to_csv('sies_titulados_tipo_inst.csv',index=False)"
   ]
  },
  {
   "cell_type": "markdown",
   "metadata": {},
   "source": [
    "* Titulados por código de Institución"
   ]
  },
  {
   "cell_type": "code",
   "execution_count": null,
   "metadata": {},
   "outputs": [],
   "source": [
    "sql_insumo = '''SELECT periodo,codigo_institucion,sum(total_titulados) as total_insumo \n",
    "           FROM sies.sies_tit_h_2023\n",
    "           GROUP BY codigo_institucion,periodo\n",
    "           ORDER BY periodo,codigo_institucion;'''\n",
    "\n",
    "df_insumo = df_from_redshift(sql_insumo, engine_insumo)\n",
    "df_insumo"
   ]
  },
  {
   "cell_type": "code",
   "execution_count": null,
   "metadata": {},
   "outputs": [],
   "source": [
    "sql_cubo = '''SELECT a.periodo,b.codigo_institucion,sum(a.total_titulados) as total_cubo\n",
    "              FROM programas.agg_programas as a\n",
    "              LEFT JOIN programas.dim_programas as b\n",
    "              ON a.codigo_unico=b.codigo_unico AND a.periodo=b.periodo\n",
    "              WHERE a.existencia_sies_tit=1\n",
    "              GROUP BY b.codigo_institucion,a.periodo;'''\n",
    "\n",
    "df_cubo = df_from_redshift(sql_cubo, engine_cubo)\n",
    "df_cubo"
   ]
  },
  {
   "cell_type": "code",
   "execution_count": null,
   "metadata": {},
   "outputs": [],
   "source": [
    "df = df_insumo.merge(df_cubo)\n",
    "\n",
    "df['diferencias'] = df['total_insumo'] - df['total_cubo']\n",
    "\n",
    "df"
   ]
  },
  {
   "cell_type": "code",
   "execution_count": null,
   "metadata": {},
   "outputs": [],
   "source": [
    "df.loc[(df.loc[:,'diferencias']!= 0.)]"
   ]
  },
  {
   "cell_type": "code",
   "execution_count": 23,
   "metadata": {},
   "outputs": [],
   "source": [
    "#df.to_csv('titulados_cod_inst.csv',index=False)\n",
    "df.loc[(df.loc[:,'diferencias']!= 0.)].to_csv('sies_titulados_cod_inst.csv',index=False)"
   ]
  },
  {
   "cell_type": "markdown",
   "metadata": {},
   "source": [
    "* Titulados por región"
   ]
  },
  {
   "cell_type": "code",
   "execution_count": null,
   "metadata": {},
   "outputs": [],
   "source": [
    "sql_cubo = '''SELECT region_sede,periodo,sum(total_titulados) as total_cubo \n",
    "           FROM sies.sies_tit_h_2023\n",
    "           GROUP BY region_sede,periodo\n",
    "           ORDER BY 2,1;'''\n",
    "\n",
    "df_rs = df_from_redshift(sql_cubo, engine_cubo)\n",
    "df_rs"
   ]
  },
  {
   "cell_type": "code",
   "execution_count": null,
   "metadata": {},
   "outputs": [],
   "source": [
    "df_stage = df_stage.sort_values(['region','anio'])\n",
    "df_rs = df_rs.sort_values(['region_sede','periodo'])\n",
    "\n",
    "df_stage['total_cubo'] = df_rs['total_cubo'].values\n",
    "df_stage['diferencias'] = df_stage['total_cubo'].values - df_stage['total_titulados'].values\n",
    "\n",
    "print('Diferencias: \\n\\n', df_stage.loc[(df_stage.loc[:,'diferencias'] != 0)])"
   ]
  },
  {
   "cell_type": "markdown",
   "metadata": {},
   "source": [
    "## sies-oferta-académica"
   ]
  },
  {
   "cell_type": "markdown",
   "metadata": {},
   "source": [
    "* cantidad programas por tipo de institucion"
   ]
  },
  {
   "cell_type": "code",
   "execution_count": null,
   "metadata": {},
   "outputs": [],
   "source": [
    "sql_insumo = '''SELECT periodo,clasificacion_institucion_nivel_3,count(cod_unico) as total_insumo \n",
    "           FROM sies.sies_oa_h_2024\n",
    "           GROUP BY clasificacion_institucion_nivel_3,periodo\n",
    "           ORDER BY periodo,clasificacion_institucion_nivel_3;'''\n",
    "\n",
    "df_insumo = df_from_redshift(sql_insumo, engine_insumo)\n",
    "df_insumo"
   ]
  },
  {
   "cell_type": "code",
   "execution_count": null,
   "metadata": {},
   "outputs": [],
   "source": [
    "sql_cubo = '''SELECT a.periodo,b.clasificacion_institucion_nivel_3,count(a.codigo_unico) as total_cubo\n",
    "              FROM programas.agg_programas as a\n",
    "              LEFT JOIN programas.dim_programas as b\n",
    "              ON a.codigo_unico=b.codigo_unico AND a.periodo=b.periodo\n",
    "              WHERE a.existencia_sies_oa=1\n",
    "              GROUP BY b.clasificacion_institucion_nivel_3,a.periodo;'''\n",
    "\n",
    "df_cubo = df_from_redshift(sql_cubo, engine_cubo)\n",
    "df_cubo"
   ]
  },
  {
   "cell_type": "code",
   "execution_count": null,
   "metadata": {},
   "outputs": [],
   "source": [
    "df = df_insumo.merge(df_cubo)\n",
    "\n",
    "df['diferencias'] = df['total_insumo'] - df['total_cubo']\n",
    "\n",
    "df"
   ]
  },
  {
   "cell_type": "code",
   "execution_count": null,
   "metadata": {},
   "outputs": [],
   "source": [
    "df.loc[(df.loc[:,'diferencias']!= 0.)]"
   ]
  },
  {
   "cell_type": "code",
   "execution_count": 28,
   "metadata": {},
   "outputs": [],
   "source": [
    "#df.to_csv('programas_tipo_inst.csv',index=False)\n",
    "df.loc[(df.loc[:,'diferencias']!= 0.)].to_csv('sies_programas_tipo_inst.csv',index=False)"
   ]
  },
  {
   "cell_type": "markdown",
   "metadata": {},
   "source": [
    "* Cantidad de programas por código de institución"
   ]
  },
  {
   "cell_type": "code",
   "execution_count": null,
   "metadata": {},
   "outputs": [],
   "source": [
    "sql_insumo = '''SELECT periodo,codigo_institucion,count(cod_unico) as total_insumo \n",
    "           FROM sies.sies_oa_h_2024\n",
    "           GROUP BY codigo_institucion,periodo\n",
    "           ORDER BY periodo,codigo_institucion;'''\n",
    "\n",
    "df_insumo = df_from_redshift(sql_insumo, engine_insumo)\n",
    "df_insumo"
   ]
  },
  {
   "cell_type": "code",
   "execution_count": null,
   "metadata": {},
   "outputs": [],
   "source": [
    "sql_cubo = '''SELECT a.periodo,b.codigo_institucion,count(a.codigo_unico) as total_cubo\n",
    "              FROM programas.agg_programas as a\n",
    "              LEFT JOIN programas.dim_programas as b\n",
    "              ON a.codigo_unico=b.codigo_unico AND a.periodo=b.periodo\n",
    "              WHERE a.existencia_sies_oa=1\n",
    "              GROUP BY b.codigo_institucion,a.periodo;'''\n",
    "\n",
    "df_cubo = df_from_redshift(sql_cubo, engine_cubo)\n",
    "df_cubo"
   ]
  },
  {
   "cell_type": "code",
   "execution_count": null,
   "metadata": {},
   "outputs": [],
   "source": [
    "df = df_insumo.merge(df_cubo)\n",
    "\n",
    "df['diferencias'] = df['total_insumo'] - df['total_cubo']\n",
    "\n",
    "df"
   ]
  },
  {
   "cell_type": "code",
   "execution_count": null,
   "metadata": {},
   "outputs": [],
   "source": [
    "df.loc[(df.loc[:,'diferencias']!= 0.)]"
   ]
  },
  {
   "cell_type": "code",
   "execution_count": 33,
   "metadata": {},
   "outputs": [],
   "source": [
    "#df.to_csv('programas_cod_inst.csv',index=False)\n",
    "df.loc[(df.loc[:,'diferencias']!= 0.)].to_csv('sies_programas_cod_inst.csv',index=False)"
   ]
  },
  {
   "cell_type": "markdown",
   "metadata": {},
   "source": [
    "* Cantidad de programas por región"
   ]
  },
  {
   "cell_type": "code",
   "execution_count": null,
   "metadata": {},
   "outputs": [],
   "source": [
    "sql_cubo = '''SELECT region_sede,periodo,count(cod_unico) as total_cubo \n",
    "           FROM sies.sies_oa_h_2024\n",
    "           GROUP BY region_sede,periodo\n",
    "           ORDER BY periodo,region_sede;'''\n",
    "\n",
    "df_rs = df_from_redshift(sql_cubo, engine_cubo)\n",
    "df_rs"
   ]
  },
  {
   "cell_type": "code",
   "execution_count": null,
   "metadata": {},
   "outputs": [],
   "source": [
    "df_stage = df_stage.sort_values(['region_sede','anio'])\n",
    "df_rs = df_rs.sort_values(['region_sede','periodo'])\n",
    "\n",
    "df_stage['total_cubo'] = df_rs['total_cubo'].values\n",
    "df_stage['diferencias'] = df_stage['total_cubo'].values - df_stage['codigo_unico'].values\n",
    "\n",
    "print('Diferencias: \\n\\n', df_stage.loc[(df_stage.loc[:,'diferencias'] != 0)])"
   ]
  }
 ],
 "metadata": {
  "kernelspec": {
   "display_name": "cuadratura",
   "language": "python",
   "name": "python3"
  },
  "language_info": {
   "codemirror_mode": {
    "name": "ipython",
    "version": 3
   },
   "file_extension": ".py",
   "mimetype": "text/x-python",
   "name": "python",
   "nbconvert_exporter": "python",
   "pygments_lexer": "ipython3",
   "version": "3.11.10"
  }
 },
 "nbformat": 4,
 "nbformat_minor": 2
}
